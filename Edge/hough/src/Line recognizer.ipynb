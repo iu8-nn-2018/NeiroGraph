{
 "cells": [
  {
   "cell_type": "code",
   "execution_count": 15,
   "metadata": {},
   "outputs": [
    {
     "data": {
      "text/plain": [
       "True"
      ]
     },
     "execution_count": 15,
     "metadata": {},
     "output_type": "execute_result"
    }
   ],
   "source": [
    "import cv2\n",
    "import numpy as np\n",
    "\n",
    "img = cv2.imread('12.png')\n",
    "gray = cv2.cvtColor(img,cv2.COLOR_BGR2GRAY)\n",
    "edges = cv2.Canny(gray,50,150,apertureSize = 3)\n",
    "\n",
    "lines = cv2.HoughLines(edges,1,np.pi/180,200)\n",
    "for rho,theta in lines[0]:\n",
    "    a = np.cos(theta)\n",
    "    b = np.sin(theta)\n",
    "    x0 = a*rho\n",
    "    y0 = b*rho\n",
    "    x1 = int(x0 + 1000*(-b))\n",
    "    y1 = int(y0 + 1000*(a))\n",
    "    x2 = int(x0 - 1000*(-b))\n",
    "    y2 = int(y0 - 1000*(a))\n",
    "\n",
    "    cv2.line(img,(x1,y1),(x2,y2),(0,0,255),2)\n",
    "\n",
    "cv2.imwrite('11lines3.png',img)"
   ]
  },
  {
   "cell_type": "code",
   "execution_count": 9,
   "metadata": {},
   "outputs": [],
   "source": [
    "def find_lines(img):\n",
    "  edges = cv2.Canny(img,100,200)\n",
    "  threshold = 60\n",
    "  minLineLength = 10\n",
    "  lines = cv2.HoughLinesP(edges, 1, np.pi/180, threshold, 0, minLineLength, 20);\n",
    "  if (lines is None or len(lines) == 0):\n",
    "      return\n",
    "\n",
    "  #print lines\n",
    "  for line in lines[0]:\n",
    "    #print line\n",
    "    cv2.line(img, (line[0],line[1]), (line[2],line[3]), (0,255,0), 2)\n",
    "  cv2.imwrite(\"line_edges.jpg\", edges)\n",
    "  cv2.imwrite(\"lines.jpg\", img) "
   ]
  },
  {
   "cell_type": "code",
   "execution_count": 10,
   "metadata": {},
   "outputs": [
    {
     "data": {
      "text/plain": [
       "True"
      ]
     },
     "execution_count": 10,
     "metadata": {},
     "output_type": "execute_result"
    }
   ],
   "source": [
    "gray = cv2.cvtColor(img,cv2.COLOR_BGR2GRAY)\n",
    "edges = cv2.Canny(gray,50,150,apertureSize = 3)\n",
    "minLineLength = 100\n",
    "maxLineGap = 50\n",
    "lines = cv2.HoughLinesP(edges,1,np.pi/180,100,minLineLength,maxLineGap)\n",
    "for x1,y1,x2,y2 in lines[0]:\n",
    "    cv2.line(img,(x1,y1),(x2,y2),(0,255,0),2)\n",
    "\n",
    "cv2.imwrite('houghlines5.jpg',img)"
   ]
  },
  {
   "cell_type": "code",
   "execution_count": 6,
   "metadata": {},
   "outputs": [],
   "source": [
    "find_lines(img)"
   ]
  },
  {
   "cell_type": "code",
   "execution_count": 31,
   "metadata": {},
   "outputs": [],
   "source": [
    "import cv2 \n",
    "import numpy as np \n",
    "\n",
    "img = cv2.imread('5.png',1) \n",
    "\n",
    "cannied = cv2.Canny(img, 50, 200, apertureSize=3) \n",
    "lines = cv2.HoughLinesP(cannied, 1, np.pi / 180, 80, minLineLength=30, maxLineGap=10) \n",
    "for x1,y1,x2,y2 in lines[0]:\n",
    "    cv2.line(img,(x1,y1),(x2,y2),(0,255,0),2)\n",
    "    \n",
    "cv2.imwrite('lines.png',img) \n",
    "# cv2.imwrite('canniedHouse.png',cannied) \n",
    "cv2.waitKey(0)\n",
    "cv2.destroyAllWindows() "
   ]
  },
  {
   "cell_type": "code",
   "execution_count": 27,
   "metadata": {},
   "outputs": [
    {
     "data": {
      "text/plain": [
       "True"
      ]
     },
     "execution_count": 27,
     "metadata": {},
     "output_type": "execute_result"
    }
   ],
   "source": [
    "# Python program to illustrate HoughLine \n",
    "# method for line detection \n",
    "import cv2 \n",
    "import numpy as np \n",
    "  \n",
    "# Reading the required image in  \n",
    "# which operations are to be done.  \n",
    "# Make sure that the image is in the same  \n",
    "# directory in which this python program is \n",
    "img = cv2.imread('10.png') \n",
    "  \n",
    "# Convert the img to grayscale \n",
    "gray = cv2.cvtColor(img,cv2.COLOR_BGR2GRAY) \n",
    "  \n",
    "# Apply edge detection method on the image \n",
    "edges = cv2.Canny(gray,50,150,apertureSize = 3) \n",
    "  \n",
    "# This returns an array of r and theta values \n",
    "lines = cv2.HoughLines(edges,1,np.pi/180, 200) \n",
    "  \n",
    "# The below for loop runs till r and theta values  \n",
    "# are in the range of the 2d array \n",
    "for r,theta in lines[0]: \n",
    "      \n",
    "    # Stores the value of cos(theta) in a \n",
    "    a = np.cos(theta) \n",
    "  \n",
    "    # Stores the value of sin(theta) in b \n",
    "    b = np.sin(theta) \n",
    "      \n",
    "    # x0 stores the value rcos(theta) \n",
    "    x0 = a*r \n",
    "      \n",
    "    # y0 stores the value rsin(theta) \n",
    "    y0 = b*r \n",
    "      \n",
    "    # x1 stores the rounded off value of (rcos(theta)-1000sin(theta)) \n",
    "    x1 = int(x0 + 1000*(-b)) \n",
    "      \n",
    "    # y1 stores the rounded off value of (rsin(theta)+1000cos(theta)) \n",
    "    y1 = int(y0 + 1000*(a)) \n",
    "  \n",
    "    # x2 stores the rounded off value of (rcos(theta)+1000sin(theta)) \n",
    "    x2 = int(x0 - 1000*(-b)) \n",
    "      \n",
    "    # y2 stores the rounded off value of (rsin(theta)-1000cos(theta)) \n",
    "    y2 = int(y0 - 1000*(a)) \n",
    "      \n",
    "    # cv2.line draws a line in img from the point(x1,y1) to (x2,y2). \n",
    "    # (0,0,255) denotes the colour of the line to be  \n",
    "    #drawn. In this case, it is red.  \n",
    "    cv2.line(img,(x1,y1), (x2,y2), (0,0,255),2) \n",
    "      \n",
    "# All the changes made in the input image are finally \n",
    "# written on a new image houghlines.jpg \n",
    "cv2.imwrite('linesDetected.jpg', img) "
   ]
  },
  {
   "cell_type": "code",
   "execution_count": null,
   "metadata": {},
   "outputs": [],
   "source": []
  }
 ],
 "metadata": {
  "kernelspec": {
   "display_name": "Python 3",
   "language": "python",
   "name": "python3"
  },
  "language_info": {
   "codemirror_mode": {
    "name": "ipython",
    "version": 3
   },
   "file_extension": ".py",
   "mimetype": "text/x-python",
   "name": "python",
   "nbconvert_exporter": "python",
   "pygments_lexer": "ipython3",
   "version": "3.6.6"
  }
 },
 "nbformat": 4,
 "nbformat_minor": 2
}
