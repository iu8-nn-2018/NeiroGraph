{
 "cells": [
  {
   "cell_type": "markdown",
   "metadata": {},
   "source": [
    "# Change size of image grow width"
   ]
  },
  {
   "cell_type": "code",
   "execution_count": 1,
   "metadata": {},
   "outputs": [
    {
     "name": "stdout",
     "output_type": "stream",
     "text": [
      "The original image size is 74 wide x 60 high\n",
      "The scaled image size is 50 wide x 40 high\n"
     ]
    }
   ],
   "source": [
    "from PIL import Image\n",
    "\n",
    "def resize_image(input_image_path,\n",
    "                 output_image_path,\n",
    "                 size):\n",
    "    original_image = Image.open(input_image_path)\n",
    "    width, height = original_image.size\n",
    "    print('The original image size is {wide} wide x {height} '\n",
    "          'high'.format(wide=width, height=height))\n",
    " \n",
    "    resized_image = original_image.resize(size)\n",
    "    width, height = resized_image.size\n",
    "    print('The resized image size is {wide} wide x {height} '\n",
    "          'high'.format(wide=width, height=height))\n",
    "#     resized_image.show()\n",
    "    resized_image.save(output_image_path)\n",
    "\n",
    "def scale_image(input_image_path,\n",
    "                output_image_path,\n",
    "                width=None,\n",
    "                height=None\n",
    "                ):\n",
    "    original_image = Image.open(input_image_path)\n",
    "    w, h = original_image.size\n",
    "    print('The original image size is {wide} wide x {height} '\n",
    "          'high'.format(wide=w, height=h))\n",
    " \n",
    "    if width and height:\n",
    "        max_size = (width, height)\n",
    "    elif width:\n",
    "        max_size = (width, h)\n",
    "    elif height:\n",
    "        max_size = (w, height)\n",
    "    else:\n",
    "        # No width or height specified\n",
    "        raise RuntimeError('Width or height required!')\n",
    " \n",
    "    original_image.thumbnail(max_size, Image.ANTIALIAS)\n",
    "    original_image.save(output_image_path)\n",
    " \n",
    "    scaled_image = Image.open(output_image_path)\n",
    "    width, height = scaled_image.size\n",
    "    print('The scaled image size is {wide} wide x {height} '\n",
    "          'high'.format(wide=width, height=height))\n",
    "\n",
    "scale_image(input_image_path='./good/1.JPG',\n",
    "                output_image_path='./resized.jpg',\n",
    "                width=50, height=50)"
   ]
  },
  {
   "cell_type": "markdown",
   "metadata": {},
   "source": [
    "## What the median size of pictures?"
   ]
  },
  {
   "cell_type": "code",
   "execution_count": 3,
   "metadata": {},
   "outputs": [
    {
     "name": "stdout",
     "output_type": "stream",
     "text": [
      "66.14394765539804 64.36532170119956\n",
      "516 505\n",
      "24 28\n"
     ]
    }
   ],
   "source": [
    "from PIL import Image\n",
    "import os\n",
    "\n",
    "Dir = './good/'\n",
    "\n",
    "listofw = []\n",
    "listofh = []\n",
    "listOfgoodFiles = os.listdir(Dir)\n",
    "wastefiles = ['.DS_Store', 'dataset.ipynb', '.ipynb_checkpoints']\n",
    "\n",
    "for i in listOfgoodFiles:\n",
    "    if i not in wastefiles:\n",
    "        img = Image.open(Dir + i)\n",
    "        listofw.append(img.size[0])\n",
    "        listofh.append(img.size[1])\n",
    "    \n",
    "print(sum(listofw) / float(len(listofw)), sum(listofh) / float(len(listofh)))\n",
    "print(max(listofw), max(listofh))\n",
    "print(min(listofw), min(listofh))"
   ]
  },
  {
   "cell_type": "markdown",
   "metadata": {},
   "source": [
    "## Resize images and find median size"
   ]
  },
  {
   "cell_type": "code",
   "execution_count": 4,
   "metadata": {},
   "outputs": [
    {
     "name": "stdout",
     "output_type": "stream",
     "text": [
      "The original image size is 30 wide x 34 high\n",
      "The resized image size is 100 wide x 100 high\n",
      "The original image size is 74 wide x 67 high\n",
      "The resized image size is 100 wide x 100 high\n",
      "The original image size is 30 wide x 33 high\n",
      "The resized image size is 100 wide x 100 high\n",
      "The original image size is 62 wide x 62 high\n",
      "The resized image size is 100 wide x 100 high\n",
      "The original image size is 46 wide x 35 high\n",
      "The resized image size is 100 wide x 100 high\n",
      "The original image size is 50 wide x 64 high\n",
      "The resized image size is 100 wide x 100 high\n",
      "The original image size is 65 wide x 70 high\n",
      "The resized image size is 100 wide x 100 high\n",
      "The original image size is 68 wide x 64 high\n",
      "The resized image size is 100 wide x 100 high\n",
      "The original image size is 74 wide x 60 high\n",
      "The resized image size is 100 wide x 100 high\n",
      "55.44444444444444 54.333333333333336\n",
      "74 70\n",
      "30 33\n"
     ]
    }
   ],
   "source": [
    "from PIL import Image\n",
    "import os\n",
    "\n",
    "# 1\n",
    "def resize_image(input_image_path,\n",
    "                 output_image_path,\n",
    "                 size):\n",
    "    original_image = Image.open(input_image_path)\n",
    "    width, height = original_image.size\n",
    "    print('The original image size is {wide} wide x {height} '\n",
    "          'high'.format(wide=width, height=height))\n",
    " \n",
    "    resized_image = original_image.resize(size)\n",
    "    width, height = resized_image.size\n",
    "    print('The resized image size is {wide} wide x {height} '\n",
    "          'high'.format(wide=width, height=height))\n",
    "#     resized_image.show()\n",
    "    resized_image.save(output_image_path)\n",
    "\n",
    "# 2\n",
    "def scale_image(input_image_path,\n",
    "                output_image_path,\n",
    "                width=None,\n",
    "                height=None\n",
    "                ):\n",
    "    original_image = Image.open(input_image_path)\n",
    "    w, h = original_image.size\n",
    "    print('The original image size is {wide} wide x {height} '\n",
    "          'high'.format(wide=w, height=h))\n",
    " \n",
    "    if width and height:\n",
    "        max_size = (width, height)\n",
    "    elif width:\n",
    "        max_size = (width, h)\n",
    "    elif height:\n",
    "        max_size = (w, height)\n",
    "    else:\n",
    "        # No width or height specified\n",
    "        raise RuntimeError('Width or height required!')\n",
    " \n",
    "    original_image.thumbnail(max_size, Image.ANTIALIAS)\n",
    "    original_image.save(output_image_path)\n",
    " \n",
    "    scaled_image = Image.open(output_image_path)\n",
    "    width, height = scaled_image.size\n",
    "    print('The scaled image size is {wide} wide x {height} '\n",
    "          'high'.format(wide=width, height=height))\n",
    "\n",
    "# Your directory\n",
    "Dir = './new/'\n",
    "\n",
    "listofw = []\n",
    "listofh = []\n",
    "listofmean = []\n",
    "listOfgoodFiles = os.listdir(Dir)\n",
    "wastefiles = ['.DS_Store', 'dataset.ipynb', '.ipynb_checkpoints']\n",
    "\n",
    "for i in listOfgoodFiles:\n",
    "    if i not in wastefiles:\n",
    "        img = Image.open(Dir + i)\n",
    "        resize_image(input_image_path=Dir + i,\n",
    "                output_image_path=Dir + i,\n",
    "                size=(100, 100))\n",
    "        listofw.append(img.size[0])\n",
    "        listofh.append(img.size[1])\n",
    "    \n",
    "print(sum(listofw) / float(len(listofw)), sum(listofh) / float(len(listofh)))\n",
    "print(max(listofw), max(listofh))\n",
    "print(min(listofw), min(listofh))"
   ]
  },
  {
   "cell_type": "code",
   "execution_count": null,
   "metadata": {},
   "outputs": [],
   "source": []
  }
 ],
 "metadata": {
  "kernelspec": {
   "display_name": "Python 3",
   "language": "python",
   "name": "python3"
  },
  "language_info": {
   "codemirror_mode": {
    "name": "ipython",
    "version": 3
   },
   "file_extension": ".py",
   "mimetype": "text/x-python",
   "name": "python",
   "nbconvert_exporter": "python",
   "pygments_lexer": "ipython3",
   "version": "3.5.6"
  }
 },
 "nbformat": 4,
 "nbformat_minor": 2
}
