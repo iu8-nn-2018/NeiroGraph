{
 "cells": [
  {
   "cell_type": "markdown",
   "metadata": {},
   "source": [
    "## Generate .dat"
   ]
  },
  {
   "cell_type": "code",
   "execution_count": 2,
   "metadata": {},
   "outputs": [],
   "source": [
    "import os\n",
    "import inspect\n",
    "from PIL import Image\n",
    "\n",
    "# Lots images\n",
    "lotsGoodImages = 4104\n",
    "lotsBadImages = 7116\n",
    "\n",
    "# Name of your directory\n",
    "goodNameDir = './../data/lines_x_good_JPG/'\n",
    "badNameDir = './../data/lines_x_bad_JPG/'\n",
    "\n",
    "# Directories with your PATH\n",
    "listOfgoodFiles = os.listdir('./' + goodNameDir) # path for goodNameDir\n",
    "listOfbadFiles = os.listdir(badNameDir) # path for badNameDir\n",
    "wastefiles = ['.DS_Store', 'dataset.ipynb', '.ipynb_checkpoints']\n",
    "\n",
    "gendat = './lines_x_good_JPG' +'.dat'\n",
    "dat = open(gendat, 'a')\n",
    "for im in range(1, lotsGoodImages + 1):\n",
    "    img = Image.open(goodNameDir + str(im) + '.JPG')\n",
    "    dat.write('lines_x_good_JPG' + '/' + str(im) + '.JPG' + ' 1 0 0 ')\n",
    "    # write coordinates of image\n",
    "    dat.write(str(img.size[0]) + ' ' + str(img.size[1]) + '\\n')\n",
    "dat.close()\n",
    "\n",
    "gendat = './lines_x_bad_JPG' + '.dat'\n",
    "dat = open(gendat, 'a')    \n",
    "for im in range(1, lotsBadImages + 1):\n",
    "    img = Image.open(badNameDir + str(im) + '.JPG')\n",
    "    dat.write('lines_x_bad_JPG' + '/' + str(im) + '.JPG' + '\\n')\n",
    "dat.close()"
   ]
  },
  {
   "cell_type": "code",
   "execution_count": null,
   "metadata": {},
   "outputs": [],
   "source": []
  }
 ],
 "metadata": {
  "kernelspec": {
   "display_name": "Python 3",
   "language": "python",
   "name": "python3"
  },
  "language_info": {
   "codemirror_mode": {
    "name": "ipython",
    "version": 3
   },
   "file_extension": ".py",
   "mimetype": "text/x-python",
   "name": "python",
   "nbconvert_exporter": "python",
   "pygments_lexer": "ipython3",
   "version": "3.5.6"
  }
 },
 "nbformat": 4,
 "nbformat_minor": 2
}
