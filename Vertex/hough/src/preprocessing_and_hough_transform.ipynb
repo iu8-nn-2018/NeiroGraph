{
 "cells": [
  {
   "cell_type": "markdown",
   "metadata": {},
   "source": [
    "# Поиск окружности на изображении OpenCV"
   ]
  },
  {
   "cell_type": "code",
   "execution_count": 1,
   "metadata": {},
   "outputs": [],
   "source": [
    "import cv2\n",
    "import numpy as np\n",
    "import imutils\n",
    "from matplotlib import pyplot as plt\n"
   ]
  },
  {
   "cell_type": "markdown",
   "metadata": {},
   "source": [
    "## Нахождение оптимального изображения\n",
    "### TrackBar"
   ]
  },
  {
   "cell_type": "code",
   "execution_count": null,
   "metadata": {},
   "outputs": [],
   "source": [
    "# name of your image [png, jpg]\n",
    "\n",
    "name = 'fig1.png'\n",
    "\n",
    "img = cv2.imread(name)\n",
    "\n",
    "if __name__ == '__main__':\n",
    "    def nothing(*arg):\n",
    "        pass\n",
    "\n",
    "cv2.namedWindow( \"result\" ) \n",
    "cv2.namedWindow( \"settings\" ) \n",
    "\n",
    "cv2.createTrackbar('h1', 'settings', 0, 255, nothing)\n",
    "cv2.createTrackbar('s1', 'settings', 0, 255, nothing)\n",
    "cv2.createTrackbar('v1', 'settings', 0, 255, nothing)\n",
    "cv2.createTrackbar('h2', 'settings', 255, 255, nothing)\n",
    "cv2.createTrackbar('s2', 'settings', 255, 255, nothing)\n",
    "cv2.createTrackbar('v2', 'settings', 255, 255, nothing)\n",
    "cv2.createTrackbar('bloor', 'settings', 0, 10, nothing)\n",
    "\n",
    "\n",
    "\n",
    "while True:\n",
    "    hsv = cv2.cvtColor(img, cv2.COLOR_BGR2HSV )\n",
    "\n",
    "    bloor = cv2.getTrackbarPos('bloor', 'settings')\n",
    "    h1 = cv2.getTrackbarPos('h1', 'settings')\n",
    "    s1 = cv2.getTrackbarPos('s1', 'settings')\n",
    "    v1 = cv2.getTrackbarPos('v1', 'settings')\n",
    "    h2 = cv2.getTrackbarPos('h2', 'settings')\n",
    "    s2 = cv2.getTrackbarPos('s2', 'settings')\n",
    "    v2 = cv2.getTrackbarPos('v2', 'settings')\n",
    "\n",
    "    if bloor % 2 == 0:\n",
    "        bloor = bloor + 1\n",
    "\n",
    "    h_min = np.array((h1, s1, v1), np.uint8)\n",
    "    h_max = np.array((h2, s2, v2), np.uint8)\n",
    "\n",
    "\n",
    "    hsv = cv2.GaussianBlur(hsv, (bloor, bloor), 2)\n",
    "    thresh = cv2.inRange(hsv, h_min, h_max)\n",
    "\n",
    "    cv2.imshow('result', thresh)\n",
    "\n",
    "    ch = cv2.waitKey(5)\n",
    "    if ch == 27:\n",
    "        break"
   ]
  },
  {
   "cell_type": "markdown",
   "metadata": {},
   "source": [
    "# Нахождение контуров и преобразование изображения"
   ]
  },
  {
   "cell_type": "code",
   "execution_count": 1,
   "metadata": {},
   "outputs": [
    {
     "ename": "NameError",
     "evalue": "name 'cv2' is not defined",
     "output_type": "error",
     "traceback": [
      "\u001b[0;31m---------------------------------------------------------------------------\u001b[0m",
      "\u001b[0;31mNameError\u001b[0m                                 Traceback (most recent call last)",
      "\u001b[0;32m<ipython-input-1-7fcd48899065>\u001b[0m in \u001b[0;36m<module>\u001b[0;34m()\u001b[0m\n\u001b[1;32m      1\u001b[0m \u001b[0;31m# Load an image\u001b[0m\u001b[0;34m\u001b[0m\u001b[0;34m\u001b[0m\u001b[0m\n\u001b[0;32m----> 2\u001b[0;31m \u001b[0mimag\u001b[0m \u001b[0;34m=\u001b[0m \u001b[0mcv2\u001b[0m\u001b[0;34m.\u001b[0m\u001b[0mimread\u001b[0m\u001b[0;34m(\u001b[0m\u001b[0;34m'fig1.jpg'\u001b[0m\u001b[0;34m)\u001b[0m\u001b[0;34m\u001b[0m\u001b[0m\n\u001b[0m\u001b[1;32m      3\u001b[0m \u001b[0;34m\u001b[0m\u001b[0m\n\u001b[1;32m      4\u001b[0m \u001b[0;31m# Resize an image\u001b[0m\u001b[0;34m\u001b[0m\u001b[0;34m\u001b[0m\u001b[0m\n\u001b[1;32m      5\u001b[0m \u001b[0;32mif\u001b[0m \u001b[0mimag\u001b[0m\u001b[0;34m.\u001b[0m\u001b[0mshape\u001b[0m\u001b[0;34m[\u001b[0m\u001b[0;36m1\u001b[0m\u001b[0;34m]\u001b[0m \u001b[0;34m>\u001b[0m \u001b[0;36m600\u001b[0m\u001b[0;34m:\u001b[0m\u001b[0;34m\u001b[0m\u001b[0m\n",
      "\u001b[0;31mNameError\u001b[0m: name 'cv2' is not defined"
     ]
    }
   ],
   "source": [
    "# Load an image\n",
    "imag = cv2.imread('fig1.jpg')\n",
    " \n",
    "# Resize an image\n",
    "if imag.shape[1] > 600:\n",
    "    imag = imutils.resize(imag, width=600, height=400)\n",
    "clone = imag.copy()\n",
    "\n",
    "# Convert to grayscale\n",
    "gray = cv2.cvtColor(clone, cv2.COLOR_BGR2GRAY)\n",
    " \n",
    "# Threshold grayscaled image to get binary image\n",
    "ret,gray_threshed = cv2.threshold(gray,150,255,cv2.THRESH_BINARY)\n",
    " \n",
    "# Smooth an image\n",
    "bilateral_filtered_image = cv2.bilateralFilter(gray_threshed, 5, 175, 175)\n",
    " \n",
    "# Find edges\n",
    "edge_detected_image = cv2.Canny(bilateral_filtered_image, 75, 200)\n",
    " \n",
    "# Find contours\n",
    "_, contours, _= cv2.findContours(edge_detected_image, cv2.RETR_TREE, cv2.CHAIN_APPROX_SIMPLE)\n",
    " \n",
    "contour_list = []\n",
    "for contour in contours:\n",
    "    approx = cv2.approxPolyDP(contour,0.01*cv2.arcLength(contour,True),True)\n",
    "    area = cv2.contourArea(contour)\n",
    "    if ((len(approx) > 8) & (50000 > area > 10000) ):\n",
    "        contour_list.append(contour)\n",
    " \n",
    "# Draw contours\n",
    "cv2.drawContours(clone, contour_list, -1, (255,0,0), 2)\n",
    " \n",
    "# Displaying the results\n",
    "cv2.imshow(\"Original\", imag)\n",
    "cv2.imshow('Smooth', bilateral_filtered_image)\n",
    "cv2.imshow('Edge', edge_detected_image)\n",
    "cv2.imshow('Objects Detected',clone)\n",
    "cv2.waitKey(0)"
   ]
  },
  {
   "cell_type": "markdown",
   "metadata": {},
   "source": [
    "# Hough Circle Transform"
   ]
  },
  {
   "cell_type": "markdown",
   "metadata": {},
   "source": [
    "## 1 "
   ]
  },
  {
   "cell_type": "code",
   "execution_count": 1,
   "metadata": {},
   "outputs": [],
   "source": [
    "import cv2\n",
    "import numpy as np\n",
    "import imutils\n",
    "from matplotlib import pyplot as plt\n",
    "\n",
    "img = cv2.imread('9.png', 0)\n",
    "img = cv2.medianBlur(img,5)\n",
    "cimg = cv2.cvtColor(img,cv2.COLOR_GRAY2BGR)\n",
    "\n",
    "circles = cv2.HoughCircles(img,cv2.HOUGH_GRADIENT,1,10, \n",
    "          param1=50,param2=12,minRadius=0,maxRadius=30)\n",
    "\n",
    "circles = np.uint16(np.around(circles))\n",
    "for i in circles[0,:]:\n",
    "    # draw the outer circle\n",
    "    cv2.circle(cimg,(i[0],i[1]),i[2],(0,255,0),2)\n",
    "    # draw the center of the circle\n",
    "    cv2.circle(cimg,(i[0],i[1]),2,(0,0,255),3)\n",
    "\n",
    "cv2.imshow('detected circles',cimg)\n",
    "cv2.waitKey(0)\n",
    "\n",
    "cv2.destroyAllWindows()"
   ]
  },
  {
   "cell_type": "markdown",
   "metadata": {},
   "source": [
    "## 2"
   ]
  },
  {
   "cell_type": "code",
   "execution_count": null,
   "metadata": {},
   "outputs": [
    {
     "name": "stdout",
     "output_type": "stream",
     "text": [
      "[[[ 34  34  29]\n",
      "  [126 170  29]\n",
      "  [198  68  29]]]\n",
      "center= (34, 34) radius= 29\n",
      "center= (126, 170) radius= 29\n",
      "center= (198, 68) radius= 29\n"
     ]
    }
   ],
   "source": [
    "import sys\n",
    "import cv2 as cv\n",
    "import numpy as np\n",
    "\n",
    "file =  \"9.png\"\n",
    "\n",
    "# Loads an image\n",
    "src = cv.imread(file, cv.IMREAD_COLOR)\n",
    "# Check if image is loaded fine\n",
    "if src is None:\n",
    "    print ('Error opening image!')\n",
    "    print ('Usage: hough_circle.py [image_name -- default ' + file + '] \\n')\n",
    "    \n",
    "    \n",
    "gray = cv.cvtColor(src, cv.COLOR_BGR2GRAY)\n",
    "    \n",
    "gray = cv.medianBlur(gray, 5)\n",
    "\n",
    "rows = gray.shape[0]\n",
    "circles = cv.HoughCircles(gray, cv.HOUGH_GRADIENT, 1, rows / 8,\n",
    "                          param1=100, param2=30,\n",
    "                          minRadius=1, maxRadius=30)\n",
    "    \n",
    "    \n",
    "if circles is not None:\n",
    "    circles = np.uint16(np.around(circles))\n",
    "    print(circles)\n",
    "    for i in circles[0, :]:\n",
    "        center = (i[0], i[1])\n",
    "        print('center=', center, end=' ')\n",
    "        # circle center\n",
    "        cv.circle(src, center, 1, (0, 100, 100), 3)\n",
    "        # circle outline\n",
    "        radius = i[2]\n",
    "        print('radius=', radius, end='\\n')\n",
    "        cv.circle(src, center, radius, (255, 0, 255), 3)\n",
    "    \n",
    "    \n",
    "cv.imshow(\"detected circles\", src)\n",
    "cv.waitKey(0)"
   ]
  },
  {
   "cell_type": "code",
   "execution_count": null,
   "metadata": {},
   "outputs": [],
   "source": []
  }
 ],
 "metadata": {
  "kernelspec": {
   "display_name": "Python 3",
   "language": "python",
   "name": "python3"
  },
  "language_info": {
   "codemirror_mode": {
    "name": "ipython",
    "version": 3
   },
   "file_extension": ".py",
   "mimetype": "text/x-python",
   "name": "python",
   "nbconvert_exporter": "python",
   "pygments_lexer": "ipython3",
   "version": "3.6.6"
  }
 },
 "nbformat": 4,
 "nbformat_minor": 2
}
