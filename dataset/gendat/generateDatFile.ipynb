{
 "cells": [
  {
   "cell_type": "markdown",
   "metadata": {},
   "source": [
    "## Generate .dat"
   ]
  },
  {
   "cell_type": "code",
   "execution_count": 4,
   "metadata": {},
   "outputs": [],
   "source": [
    "import os\n",
    "import inspect\n",
    "from PIL import Image\n",
    "\n",
    "# Lots images\n",
    "lotsGoodImages = 917\n",
    "lotsBadImages = 1469\n",
    "\n",
    "# Name of your directory\n",
    "goodNameDir = 'vertex'\n",
    "badNameDir = 'notvertex'\n",
    "\n",
    "# Directories with your PATH\n",
    "listOfgoodFiles = os.listdir('./' + goodNameDir) # path for goodNameDir\n",
    "listOfbadFiles = os.listdir('./' + badNameDir) # path for badNameDir\n",
    "wastefiles = ['.DS_Store', 'dataset.ipynb', '.ipynb_checkpoints']\n",
    "\n",
    "gendat = './'+ goodNameDir +'.dat'\n",
    "dat = open(gendat, 'a')\n",
    "for im in range(1, lotsGoodImages + 1):\n",
    "    img = Image.open('./' + goodNameDir + '/' + str(im) + '.jpg')\n",
    "    dat.write(goodNameDir + '/' + str(im) + '.jpg' + ' 1 0 0 ')\n",
    "    # write coordinates of image\n",
    "    dat.write(str(img.size[0]) + ' ' + str(img.size[1]) + '\\n')\n",
    "dat.close()\n",
    "\n",
    "gendat = './' + badNameDir + '.dat'\n",
    "dat = open(gendat, 'a')    \n",
    "for im in range(1, lotsBadImages + 1):\n",
    "    img = Image.open('./' + badNameDir + '/' + str(im) + '.jpg')\n",
    "    dat.write(badNameDir + '/' + str(im) + '.jpg' + '\\n')\n",
    "dat.close()"
   ]
  }
 ],
 "metadata": {
  "kernelspec": {
   "display_name": "Python 3",
   "language": "python",
   "name": "python3"
  },
  "language_info": {
   "codemirror_mode": {
    "name": "ipython",
    "version": 3
   },
   "file_extension": ".py",
   "mimetype": "text/x-python",
   "name": "python",
   "nbconvert_exporter": "python",
   "pygments_lexer": "ipython3",
   "version": "3.5.6"
  }
 },
 "nbformat": 4,
 "nbformat_minor": 2
}
