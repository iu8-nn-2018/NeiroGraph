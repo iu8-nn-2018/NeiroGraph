{
 "cells": [
  {
   "cell_type": "markdown",
   "metadata": {},
   "source": [
    "## Haar for 1 image"
   ]
  },
  {
   "cell_type": "code",
   "execution_count": 1,
   "metadata": {},
   "outputs": [
    {
     "data": {
      "text/plain": [
       "True"
      ]
     },
     "execution_count": 1,
     "metadata": {},
     "output_type": "execute_result"
    }
   ],
   "source": [
    "import numpy as np\n",
    "import cv2\n",
    "\n",
    "# This is the cascade we just made. Call what you want\n",
    "# cascade5 = cv2.CascadeClassifier('haar55/cascade.xml')\n",
    "# cascade10 = cv2.CascadeClassifier('haar1010/cascade.xml')\n",
    "# cascade20 = cv2.CascadeClassifier('haar2020/cascade.xml')\n",
    "cascade30 = cv2.CascadeClassifier('3030/cascade.xml')\n",
    "\n",
    "image = '1.JPG'\n",
    "\n",
    "img = cv2.imread('./test/' + image)\n",
    "img_c = img.copy()\n",
    "\n",
    "# filters\n",
    "gray = cv2.cvtColor(img_c, cv2.COLOR_BGR2GRAY)\n",
    "# gaus = cv2.GaussianBlur(gray, (5, 5), 2)\n",
    "\n",
    "# vertex5 = cascade.detectMultiScale(img_c)\n",
    "# vertex10 = cascade.detectMultiScale(img_c)\n",
    "# vertex20 = cascade.detectMultiScale(img_c)\n",
    "vertex30 = cascade30.detectMultiScale(img_c)\n",
    "\n",
    "# for (x,y,w,h) in vertex5:\n",
    "# #     print('vertex5')\n",
    "#     cv2.rectangle(img,(x,y),(x+w,y+h),(255,0,255),2)\n",
    "\n",
    "# for (x,y,w,h) in vertex10:\n",
    "# #     print('vertex10')\n",
    "#     cv2.rectangle(img,(x,y),(x+w,y+h),(0,255,0),2)\n",
    "\n",
    "# for (x,y,w,h) in vertex20:\n",
    "# #     print('vertex20')\n",
    "#     cv2.rectangle(img,(x,y),(x+w,y+h),(0,255,0),2)\n",
    "\n",
    "for (x,y,w,h) in vertex30:\n",
    "#     print('vertex30')\n",
    "    cv2.rectangle(img,(x,y),(x+w,y+h),(0,255,0),2)\n",
    "    \n",
    "# cv2.imshow('img',img)\n",
    "cv2.imwrite(image, img)\n",
    "# cv2.waitKey()"
   ]
  },
  {
   "cell_type": "markdown",
   "metadata": {},
   "source": [
    "## Haar for many images"
   ]
  },
  {
   "cell_type": "code",
   "execution_count": 5,
   "metadata": {},
   "outputs": [
    {
     "name": "stdout",
     "output_type": "stream",
     "text": [
      "1.jpg Haar recognition: 3\n",
      "2.jpg Haar recognition: 8\n",
      "3.jpg Haar recognition: 2\n",
      "4.jpg Haar recognition: 3\n",
      "5.jpg Haar recognition: 9\n",
      "6.jpg Haar recognition: 4\n",
      "7.jpg Haar recognition: 4\n",
      "8.jpg Haar recognition: 4\n",
      "9.jpg Haar recognition: 4\n",
      "10.jpg Haar recognition: 4\n",
      "11.jpg Haar recognition: 6\n",
      "12.jpg Haar recognition: 4\n",
      "13.jpg Haar recognition: 0\n",
      "14.jpg Haar recognition: 7\n",
      "15.jpg Haar recognition: 3\n",
      "16.jpg Haar recognition: 5\n",
      "17.jpg Haar recognition: 8\n",
      "18.jpg Haar recognition: 1\n",
      "19.jpg Haar recognition: 4\n",
      "20.jpg Haar recognition: 0\n",
      "21.jpg Haar recognition: 4\n",
      "22.jpg Haar recognition: 6\n",
      "23.jpg Haar recognition: 0\n",
      "24.jpg Haar recognition: 1\n",
      "25.jpg Haar recognition: 0\n",
      "26.jpg Haar recognition: 5\n",
      "27.jpg Haar recognition: 4\n",
      "28.jpg Haar recognition: 1\n",
      "29.jpg Haar recognition: 12\n",
      "30.jpg Haar recognition: 4\n",
      "31.jpg Haar recognition: 3\n",
      "32.jpg Haar recognition: 5\n",
      "33.jpg Haar recognition: 3\n",
      "34.jpg Haar recognition: 10\n",
      "35.jpg Haar recognition: 1\n",
      "36.jpg Haar recognition: 5\n",
      "37.jpg Haar recognition: 9\n",
      "38.jpg Haar recognition: 3\n",
      "39.jpg Haar recognition: 8\n",
      "40.jpg Haar recognition: 6\n",
      "41.jpg Haar recognition: 0\n",
      "42.jpg Haar recognition: 5\n",
      "43.jpg Haar recognition: 4\n",
      "44.jpg Haar recognition: 1\n",
      "45.jpg Haar recognition: 0\n",
      "46.jpg Haar recognition: 9\n",
      "47.jpg Haar recognition: 8\n",
      "48.jpg Haar recognition: 2\n",
      "49.jpg Haar recognition: 2\n"
     ]
    }
   ],
   "source": [
    "import numpy as np\n",
    "import cv2\n",
    "import os\n",
    "\n",
    "# create folder\n",
    "path = './resultHaar/'\n",
    "os.mkdir(path)\n",
    "\n",
    "# This is the cascade we just made. Call what you want\n",
    "# cascade5 = cv2.CascadeClassifier('haar55/cascade.xml')\n",
    "# cascade10 = cv2.CascadeClassifier('haar1010/cascade.xml')\n",
    "# cascade20 = cv2.CascadeClassifier('haar2020/cascade.xml')\n",
    "cascade30 = cv2.CascadeClassifier('3030/cascade.xml')\n",
    "\n",
    "for i in range(1, 50):\n",
    "    image = str(i) + '.jpg'\n",
    "\n",
    "    img = cv2.imread('./test/' + image)\n",
    "    gray = cv2.cvtColor(img, cv2.COLOR_BGR2GRAY)\n",
    "    gaus = cv2.GaussianBlur(gray, (5, 5), 2)\n",
    "\n",
    "    # vertex5 = cascade.detectMultiScale(img_c)\n",
    "    # vertex10 = cascade.detectMultiScale(img_c)\n",
    "    # vertex20 = cascade.detectMultiScale(img_c)\n",
    "    vertex30 = cascade30.detectMultiScale(img)\n",
    "\n",
    "    # for (x,y,w,h) in vertex5:\n",
    "    # #     print('vertex5')\n",
    "    #     cv2.rectangle(img,(x,y),(x+w,y+h),(255,0,255),2)\n",
    "\n",
    "    # for (x,y,w,h) in vertex10:\n",
    "    # #     print('vertex10')\n",
    "    #     cv2.rectangle(img,(x,y),(x+w,y+h),(0,255,0),2)\n",
    "\n",
    "    # for (x,y,w,h) in vertex20:\n",
    "    # #     print('vertex20')\n",
    "    #     cv2.rectangle(img,(x,y),(x+w,y+h),(0,255,0),2)\n",
    "    \n",
    "    it = 0\n",
    "    for (x,y,w,h) in vertex30:\n",
    "        it += 1\n",
    "        cv2.rectangle(img,(x,y),(x+w,y+h),(0,255,0),2)\n",
    "    \n",
    "    # INFO\n",
    "    print(str(i) + '.jpg' + ' Haar recognition:', it)\n",
    "    \n",
    "    # cv2.imshow('img',img)\n",
    "    cv2.imwrite(path + image, img)"
   ]
  },
  {
   "cell_type": "code",
   "execution_count": null,
   "metadata": {},
   "outputs": [],
   "source": []
  }
 ],
 "metadata": {
  "kernelspec": {
   "display_name": "Python 3",
   "language": "python",
   "name": "python3"
  },
  "language_info": {
   "codemirror_mode": {
    "name": "ipython",
    "version": 3
   },
   "file_extension": ".py",
   "mimetype": "text/x-python",
   "name": "python",
   "nbconvert_exporter": "python",
   "pygments_lexer": "ipython3",
   "version": "3.5.6"
  }
 },
 "nbformat": 4,
 "nbformat_minor": 2
}
