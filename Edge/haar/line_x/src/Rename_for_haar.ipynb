{
 "cells": [
  {
   "cell_type": "code",
   "execution_count": 2,
   "metadata": {},
   "outputs": [
    {
     "name": "stdout",
     "output_type": "stream",
     "text": [
      "48.JPG\n",
      "49.JPG\n",
      "75.JPG\n",
      "59.JPG\n",
      "8.JPG\n",
      "28.JPG\n",
      "539.jpg\n",
      "29.jpg\n",
      "103.JPG\n",
      "12.JPG\n",
      "107.JPG\n",
      "8 3.jpg\n",
      "8 2.jpg\n",
      "11.JPG\n",
      "10.JPG\n",
      "35.JPG\n",
      "44 2.JPG\n",
      "41_1.png\n",
      "6 2.jpg\n",
      "34.JPG\n",
      "20.JPG\n",
      "22.JPG\n",
      "43_1.jpg\n",
      "33.JPG\n",
      "537.jpg\n",
      "24.JPG\n",
      "4.JPG\n",
      "5.JPG\n",
      "43.JPG\n",
      "7.JPG\n",
      "41.png\n",
      "6.JPG\n",
      "44.JPG\n",
      "50.png\n",
      "3.JPG\n",
      "51.jpg\n",
      "225.jpg\n",
      "52.png\n"
     ]
    }
   ],
   "source": [
    "import os\n",
    "import shutil\n",
    "\n",
    "def createFolder(directory):\n",
    "    try:\n",
    "        if not os.path.exists(directory):\n",
    "            os.makedirs(directory)\n",
    "\n",
    "        shutil.rmtree(directory, ignore_errors=True)\n",
    "        os.makedirs(directory)\n",
    "    except OSError:\n",
    "        print('Error: Creating directory. ' + directory)\n",
    "\n",
    "# create folder\n",
    "path = './../result/test_line_start_JPG/'\n",
    "createFolder(path)\n",
    "\n",
    "wastefiles = ['.DS_Store', '.ipynb_checkpoints']\n",
    "\n",
    "i = 1\n",
    "for img in os.listdir(\"./../data/test_line_start/\"):\n",
    "    if img not in wastefiles:\n",
    "        print(img)\n",
    "        x = img.split(\".\")\n",
    "        os.rename(\"./../data/test_line_start/\" + img, \"./../results/test_line_start_JPG/\" + str(i) + '.' + x[1])\n",
    "        i += 1"
   ]
  },
  {
   "cell_type": "code",
   "execution_count": null,
   "metadata": {},
   "outputs": [],
   "source": []
  }
 ],
 "metadata": {
  "kernelspec": {
   "display_name": "Python 3",
   "language": "python",
   "name": "python3"
  },
  "language_info": {
   "codemirror_mode": {
    "name": "ipython",
    "version": 3
   },
   "file_extension": ".py",
   "mimetype": "text/x-python",
   "name": "python",
   "nbconvert_exporter": "python",
   "pygments_lexer": "ipython3",
   "version": "3.5.6"
  }
 },
 "nbformat": 4,
 "nbformat_minor": 2
}
