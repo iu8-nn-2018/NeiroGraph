{
 "cells": [
  {
   "cell_type": "markdown",
   "metadata": {},
   "source": [
    "## Find only 30x30 - 100x100 images \n",
    "### Positive"
   ]
  },
  {
   "cell_type": "code",
   "execution_count": 2,
   "metadata": {},
   "outputs": [
    {
     "name": "stdout",
     "output_type": "stream",
     "text": [
      "Find lots of need images:  785\n"
     ]
    }
   ],
   "source": [
    "from PIL import Image\n",
    "import os\n",
    "from shutil import copy2\n",
    "\n",
    "goodDir = './good/'\n",
    "formatImg = '.JPG'\n",
    "\n",
    "listofneedimg = []\n",
    "listofsize = []\n",
    "listOfgoodFiles = os.listdir(goodDir)\n",
    "wastefiles = ['.DS_Store', 'dataset.ipynb', '.ipynb_checkpoints']\n",
    "\n",
    "for i in listOfgoodFiles:\n",
    "    if i not in wastefiles:\n",
    "        img = Image.open(goodDir + i)\n",
    "        size = img.size\n",
    "        \n",
    "        if ((100 >= size[0] >= 30) & (100 >= size[1] >= 30)):\n",
    "            if (size not in listofsize):\n",
    "                listofsize.append(size)\n",
    "                #\n",
    "                listofneedimg.append(goodDir + i)\n",
    "#             print('./good/' + i)\n",
    "            \n",
    "print('Find lots of need images: ', len(listofneedimg))\n",
    "# print(listofneedimg)\n",
    "\n",
    "# create folder\n",
    "path = './goodfix'\n",
    "os.mkdir(path)\n",
    "#\n",
    "it = 0\n",
    "for i in listofneedimg:\n",
    "    copy2(i, './goodfix/' + str(it) + formatImg)\n",
    "    it += 1"
   ]
  },
  {
   "cell_type": "markdown",
   "metadata": {},
   "source": [
    "### Negative"
   ]
  },
  {
   "cell_type": "code",
   "execution_count": 5,
   "metadata": {},
   "outputs": [
    {
     "name": "stdout",
     "output_type": "stream",
     "text": [
      "Find lots of need images:  1262\n"
     ]
    }
   ],
   "source": [
    "from PIL import Image\n",
    "import os\n",
    "from shutil import copy2\n",
    "\n",
    "badDir = './bad/'\n",
    "formatImg = '.JPG'\n",
    "\n",
    "listofneedimg = []\n",
    "listofsize = []\n",
    "listOfgoodFiles = os.listdir(badDir)\n",
    "wastefiles = ['.DS_Store', 'dataset.ipynb', '.ipynb_checkpoints']\n",
    "\n",
    "for i in listOfgoodFiles:\n",
    "    if i not in wastefiles:\n",
    "        img = Image.open(badDir + i)\n",
    "        size = img.size\n",
    "        \n",
    "        if ((size[0] >= 50) & (size[1] >= 50)):\n",
    "            if (size not in listofsize):\n",
    "                listofsize.append(size)\n",
    "                #\n",
    "                listofneedimg.append(badDir + i)\n",
    "#             print('./good/' + i)\n",
    "            \n",
    "print('Find lots of need images: ', len(listofneedimg))\n",
    "# print(listofneedimg)\n",
    "\n",
    "# create folder\n",
    "path = './badfix'\n",
    "os.mkdir(path)\n",
    "#\n",
    "it = 0\n",
    "for i in listofneedimg:\n",
    "#     print(type(i))\n",
    "    copy2(i, './badfix/' + str(it) + formatImg)\n",
    "    if (it == 1200):\n",
    "        break\n",
    "    it += 1"
   ]
  }
 ],
 "metadata": {
  "kernelspec": {
   "display_name": "Python 3",
   "language": "python",
   "name": "python3"
  },
  "language_info": {
   "codemirror_mode": {
    "name": "ipython",
    "version": 3
   },
   "file_extension": ".py",
   "mimetype": "text/x-python",
   "name": "python",
   "nbconvert_exporter": "python",
   "pygments_lexer": "ipython3",
   "version": "3.5.6"
  }
 },
 "nbformat": 4,
 "nbformat_minor": 2
}
